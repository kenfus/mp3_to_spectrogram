{
 "cells": [
  {
   "cell_type": "code",
   "execution_count": 15,
   "metadata": {},
   "outputs": [],
   "source": [
    "import tensorflow as tf\n",
    "from tensorflow.python.keras.layers import Input, Dense, Reshape, Flatten, Dropout\n",
    "from tensorflow.python.keras.layers import BatchNormalization, Activation, ZeroPadding2D\n",
    "from tensorflow.python.keras.layers.advanced_activations import LeakyReLU\n",
    "from tensorflow.python.keras.layers.convolutional import UpSampling2D, Conv2D\n",
    "from tensorflow.python.keras.models import Sequential, Model\n",
    "from tensorflow.python.keras.optimizers import RMSprop\n",
    "\n",
    "import tensorflow.python.keras.backend as K\n",
    "import matplotlib.pyplot as plt\n",
    "import sys\n",
    "import numpy as np\n",
    "\n",
    "\"\"\"\n",
    "myurasov-github\n",
    "\"\"\"\n",
    "\n",
    "\n",
    "dest = '/Volumes/LaCie/power_metai/WGAN/'\n",
    "RND = 777\n",
    "OUT_DIR = dest + 'out/'\n",
    "TENSORBOARD_DIR = dest + '/tensorboard/'\n",
    "\n"
   ]
  },
  {
   "cell_type": "code",
   "execution_count": null,
   "metadata": {},
   "outputs": [],
   "source": []
  }
 ],
 "metadata": {
  "kernelspec": {
   "display_name": "Python 3",
   "language": "python",
   "name": "python3"
  },
  "language_info": {
   "codemirror_mode": {
    "name": "ipython",
    "version": 3
   },
   "file_extension": ".py",
   "mimetype": "text/x-python",
   "name": "python",
   "nbconvert_exporter": "python",
   "pygments_lexer": "ipython3",
   "version": "3.7.3"
  }
 },
 "nbformat": 4,
 "nbformat_minor": 2
}
